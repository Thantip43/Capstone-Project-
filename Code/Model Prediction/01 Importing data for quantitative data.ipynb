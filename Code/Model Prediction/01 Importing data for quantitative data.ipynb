{
 "cells": [
  {
   "cell_type": "markdown",
   "id": "5c5fa623-ac4c-4393-8e85-acc6df791e10",
   "metadata": {},
   "source": [
    "## Gold prices "
   ]
  },
  {
   "cell_type": "code",
   "execution_count": 90,
   "id": "48133f51-292a-4a8b-b07f-9e394797a91d",
   "metadata": {},
   "outputs": [
    {
     "name": "stdout",
     "output_type": "stream",
     "text": [
      "Downloading data for Gold_Price (GC=F)...\n"
     ]
    },
    {
     "name": "stderr",
     "output_type": "stream",
     "text": [
      "[*********************100%***********************]  1 of 1 completed\n",
      "/var/folders/7x/s9nb0bqj3xj0g6l2sm78vqcm0000gn/T/ipykernel_68068/1502185924.py:30: FutureWarning: 'H' is deprecated and will be removed in a future version, please use 'h' instead.\n",
      "  data_reset['Datetime'] = pd.to_datetime(data_reset['Datetime']).dt.round('H')\n",
      "[*********************100%***********************]  1 of 1 completed"
     ]
    },
    {
     "name": "stdout",
     "output_type": "stream",
     "text": [
      "Data for Gold_Price saved to Gold_Price_hourly.csv\n",
      "Downloading data for S&P_500 (^GSPC)...\n"
     ]
    },
    {
     "name": "stderr",
     "output_type": "stream",
     "text": [
      "\n",
      "/var/folders/7x/s9nb0bqj3xj0g6l2sm78vqcm0000gn/T/ipykernel_68068/1502185924.py:30: FutureWarning: 'H' is deprecated and will be removed in a future version, please use 'h' instead.\n",
      "  data_reset['Datetime'] = pd.to_datetime(data_reset['Datetime']).dt.round('H')\n",
      "[*********************100%***********************]  1 of 1 completed\n"
     ]
    },
    {
     "name": "stdout",
     "output_type": "stream",
     "text": [
      "Data for S&P_500 saved to S&P_500_hourly.csv\n",
      "Downloading data for Dow_Jones (^DJI)...\n"
     ]
    },
    {
     "name": "stderr",
     "output_type": "stream",
     "text": [
      "/var/folders/7x/s9nb0bqj3xj0g6l2sm78vqcm0000gn/T/ipykernel_68068/1502185924.py:30: FutureWarning: 'H' is deprecated and will be removed in a future version, please use 'h' instead.\n",
      "  data_reset['Datetime'] = pd.to_datetime(data_reset['Datetime']).dt.round('H')\n"
     ]
    },
    {
     "name": "stdout",
     "output_type": "stream",
     "text": [
      "Data for Dow_Jones saved to Dow_Jones_hourly.csv\n",
      "Downloading data for USD_EUR (EUR=X)...\n"
     ]
    },
    {
     "name": "stderr",
     "output_type": "stream",
     "text": [
      "[*********************100%***********************]  1 of 1 completed\n",
      "/var/folders/7x/s9nb0bqj3xj0g6l2sm78vqcm0000gn/T/ipykernel_68068/1502185924.py:30: FutureWarning: 'H' is deprecated and will be removed in a future version, please use 'h' instead.\n",
      "  data_reset['Datetime'] = pd.to_datetime(data_reset['Datetime']).dt.round('H')\n"
     ]
    },
    {
     "name": "stdout",
     "output_type": "stream",
     "text": [
      "Data for USD_EUR saved to USD_EUR_hourly.csv\n",
      "Downloading data for USD_INR (INR=X)...\n"
     ]
    },
    {
     "name": "stderr",
     "output_type": "stream",
     "text": [
      "[*********************100%***********************]  1 of 1 completed\n",
      "/var/folders/7x/s9nb0bqj3xj0g6l2sm78vqcm0000gn/T/ipykernel_68068/1502185924.py:30: FutureWarning: 'H' is deprecated and will be removed in a future version, please use 'h' instead.\n",
      "  data_reset['Datetime'] = pd.to_datetime(data_reset['Datetime']).dt.round('H')\n"
     ]
    },
    {
     "name": "stdout",
     "output_type": "stream",
     "text": [
      "Data for USD_INR saved to USD_INR_hourly.csv\n",
      "Downloading data for USD_CNY (CNY=X)...\n"
     ]
    },
    {
     "name": "stderr",
     "output_type": "stream",
     "text": [
      "[*********************100%***********************]  1 of 1 completed\n",
      "/var/folders/7x/s9nb0bqj3xj0g6l2sm78vqcm0000gn/T/ipykernel_68068/1502185924.py:30: FutureWarning: 'H' is deprecated and will be removed in a future version, please use 'h' instead.\n",
      "  data_reset['Datetime'] = pd.to_datetime(data_reset['Datetime']).dt.round('H')\n"
     ]
    },
    {
     "name": "stdout",
     "output_type": "stream",
     "text": [
      "Data for USD_CNY saved to USD_CNY_hourly.csv\n",
      "Downloading data for USD_JPY (JPY=X)...\n"
     ]
    },
    {
     "name": "stderr",
     "output_type": "stream",
     "text": [
      "[*********************100%***********************]  1 of 1 completed\n",
      "/var/folders/7x/s9nb0bqj3xj0g6l2sm78vqcm0000gn/T/ipykernel_68068/1502185924.py:30: FutureWarning: 'H' is deprecated and will be removed in a future version, please use 'h' instead.\n",
      "  data_reset['Datetime'] = pd.to_datetime(data_reset['Datetime']).dt.round('H')\n"
     ]
    },
    {
     "name": "stdout",
     "output_type": "stream",
     "text": [
      "Data for USD_JPY saved to USD_JPY_hourly.csv\n",
      "Downloading data for USD_GBP (GBP=X)...\n"
     ]
    },
    {
     "name": "stderr",
     "output_type": "stream",
     "text": [
      "[*********************100%***********************]  1 of 1 completed\n",
      "/var/folders/7x/s9nb0bqj3xj0g6l2sm78vqcm0000gn/T/ipykernel_68068/1502185924.py:30: FutureWarning: 'H' is deprecated and will be removed in a future version, please use 'h' instead.\n",
      "  data_reset['Datetime'] = pd.to_datetime(data_reset['Datetime']).dt.round('H')\n"
     ]
    },
    {
     "name": "stdout",
     "output_type": "stream",
     "text": [
      "Data for USD_GBP saved to USD_GBP_hourly.csv\n",
      "Downloading data for Crude_oil (CL=F)...\n"
     ]
    },
    {
     "name": "stderr",
     "output_type": "stream",
     "text": [
      "[*********************100%***********************]  1 of 1 completed"
     ]
    },
    {
     "name": "stdout",
     "output_type": "stream",
     "text": [
      "Data for Crude_oil saved to Crude_oil_hourly.csv\n"
     ]
    },
    {
     "name": "stderr",
     "output_type": "stream",
     "text": [
      "\n",
      "/var/folders/7x/s9nb0bqj3xj0g6l2sm78vqcm0000gn/T/ipykernel_68068/1502185924.py:30: FutureWarning: 'H' is deprecated and will be removed in a future version, please use 'h' instead.\n",
      "  data_reset['Datetime'] = pd.to_datetime(data_reset['Datetime']).dt.round('H')\n"
     ]
    }
   ],
   "source": [
    "import yfinance as yf\n",
    "\n",
    "# Dictionary of tickers with their names\n",
    "tickers = {\n",
    "    'GC=F': 'Gold_Price',\n",
    "    '^GSPC': 'S&P_500',\n",
    "    '^DJI': 'Dow_Jones',\n",
    "    'EUR=X': 'USD_EUR', \n",
    "    'INR=X': 'USD_INR',\n",
    "    'CNY=X': 'USD_CNY',\n",
    "    'JPY=X': 'USD_JPY',\n",
    "    'GBP=X': 'USD_GBP',\n",
    "    'CL=F': 'Crude_oil'\n",
    "}\n",
    "\n",
    "# Dictionary to store data\n",
    "dataframes = {}\n",
    "\n",
    "# Loop to download data\n",
    "for ticker, name in tickers.items():\n",
    "    print(f\"Downloading data for {name} ({ticker})...\")\n",
    "    \n",
    "    # Download data\n",
    "    dataframes[name] = yf.download(ticker, period=\"2y\", interval=\"1h\")\n",
    "    \n",
    "    # Reset index (make timestamp a normal column)\n",
    "    data_reset = dataframes[name].reset_index()\n",
    "\n",
    "    # Round the 'Datetime' column to the nearest hour\n",
    "    data_reset['Datetime'] = pd.to_datetime(data_reset['Datetime']).dt.round('H')\n",
    "    \n",
    "    # export to CSV file\n",
    "    filename = f\"{name}_hourly.csv\"  \n",
    "    data_reset.to_csv(filename, index=False) \n",
    "    print(f\"Data for {name} saved to {filename}\")"
   ]
  },
  {
   "cell_type": "code",
   "execution_count": 78,
   "id": "a6c3dd47-8d09-4c4e-ab0a-1ef57f888093",
   "metadata": {},
   "outputs": [
    {
     "data": {
      "text/html": [
       "<div>\n",
       "<style scoped>\n",
       "    .dataframe tbody tr th:only-of-type {\n",
       "        vertical-align: middle;\n",
       "    }\n",
       "\n",
       "    .dataframe tbody tr th {\n",
       "        vertical-align: top;\n",
       "    }\n",
       "\n",
       "    .dataframe thead th {\n",
       "        text-align: right;\n",
       "    }\n",
       "</style>\n",
       "<table border=\"1\" class=\"dataframe\">\n",
       "  <thead>\n",
       "    <tr style=\"text-align: right;\">\n",
       "      <th></th>\n",
       "      <th>Datetime</th>\n",
       "      <th>Adj Close</th>\n",
       "      <th>Close</th>\n",
       "      <th>High</th>\n",
       "      <th>Low</th>\n",
       "      <th>Open</th>\n",
       "      <th>Volume</th>\n",
       "    </tr>\n",
       "  </thead>\n",
       "  <tbody>\n",
       "    <tr>\n",
       "      <th>0</th>\n",
       "      <td>NaN</td>\n",
       "      <td>GC=F</td>\n",
       "      <td>GC=F</td>\n",
       "      <td>GC=F</td>\n",
       "      <td>GC=F</td>\n",
       "      <td>GC=F</td>\n",
       "      <td>GC=F</td>\n",
       "    </tr>\n",
       "    <tr>\n",
       "      <th>1</th>\n",
       "      <td>2022-12-05 23:00:00+00:00</td>\n",
       "      <td>1781.5999755859375</td>\n",
       "      <td>1781.5999755859375</td>\n",
       "      <td>1782.5999755859375</td>\n",
       "      <td>1780.0999755859375</td>\n",
       "      <td>1780.800048828125</td>\n",
       "      <td>0</td>\n",
       "    </tr>\n",
       "    <tr>\n",
       "      <th>2</th>\n",
       "      <td>2022-12-06 00:00:00+00:00</td>\n",
       "      <td>1782.5999755859375</td>\n",
       "      <td>1782.5999755859375</td>\n",
       "      <td>1783.0999755859375</td>\n",
       "      <td>1768.5999755859375</td>\n",
       "      <td>1781.5999755859375</td>\n",
       "      <td>1469</td>\n",
       "    </tr>\n",
       "    <tr>\n",
       "      <th>3</th>\n",
       "      <td>2022-12-06 01:00:00+00:00</td>\n",
       "      <td>1786.699951171875</td>\n",
       "      <td>1786.699951171875</td>\n",
       "      <td>1788.0999755859375</td>\n",
       "      <td>1782.0</td>\n",
       "      <td>1782.5</td>\n",
       "      <td>6505</td>\n",
       "    </tr>\n",
       "    <tr>\n",
       "      <th>4</th>\n",
       "      <td>2022-12-06 02:00:00+00:00</td>\n",
       "      <td>1784.0999755859375</td>\n",
       "      <td>1784.0999755859375</td>\n",
       "      <td>1788.199951171875</td>\n",
       "      <td>1783.5999755859375</td>\n",
       "      <td>1786.199951171875</td>\n",
       "      <td>5091</td>\n",
       "    </tr>\n",
       "    <tr>\n",
       "      <th>...</th>\n",
       "      <td>...</td>\n",
       "      <td>...</td>\n",
       "      <td>...</td>\n",
       "      <td>...</td>\n",
       "      <td>...</td>\n",
       "      <td>...</td>\n",
       "      <td>...</td>\n",
       "    </tr>\n",
       "    <tr>\n",
       "      <th>11520</th>\n",
       "      <td>2024-12-05 18:00:00+00:00</td>\n",
       "      <td>2652.60009765625</td>\n",
       "      <td>2652.60009765625</td>\n",
       "      <td>2652.800048828125</td>\n",
       "      <td>2629.199951171875</td>\n",
       "      <td>2650.89990234375</td>\n",
       "      <td>8288</td>\n",
       "    </tr>\n",
       "    <tr>\n",
       "      <th>11521</th>\n",
       "      <td>2024-12-05 19:00:00+00:00</td>\n",
       "      <td>2652.800048828125</td>\n",
       "      <td>2652.800048828125</td>\n",
       "      <td>2654.89990234375</td>\n",
       "      <td>2630.39990234375</td>\n",
       "      <td>2652.699951171875</td>\n",
       "      <td>4292</td>\n",
       "    </tr>\n",
       "    <tr>\n",
       "      <th>11522</th>\n",
       "      <td>2024-12-05 20:00:00+00:00</td>\n",
       "      <td>2654.5</td>\n",
       "      <td>2654.5</td>\n",
       "      <td>2655.0</td>\n",
       "      <td>2651.10009765625</td>\n",
       "      <td>2652.89990234375</td>\n",
       "      <td>3172</td>\n",
       "    </tr>\n",
       "    <tr>\n",
       "      <th>11523</th>\n",
       "      <td>2024-12-05 21:00:00+00:00</td>\n",
       "      <td>2655.0</td>\n",
       "      <td>2655.0</td>\n",
       "      <td>2655.60009765625</td>\n",
       "      <td>2654.10009765625</td>\n",
       "      <td>2654.39990234375</td>\n",
       "      <td>1076</td>\n",
       "    </tr>\n",
       "    <tr>\n",
       "      <th>11524</th>\n",
       "      <td>2024-12-05 23:00:00+00:00</td>\n",
       "      <td>2656.199951171875</td>\n",
       "      <td>2656.199951171875</td>\n",
       "      <td>2656.39990234375</td>\n",
       "      <td>2654.0</td>\n",
       "      <td>2655.0</td>\n",
       "      <td>885</td>\n",
       "    </tr>\n",
       "  </tbody>\n",
       "</table>\n",
       "<p>11525 rows × 7 columns</p>\n",
       "</div>"
      ],
      "text/plain": [
       "                        Datetime           Adj Close               Close  \\\n",
       "0                            NaN                GC=F                GC=F   \n",
       "1      2022-12-05 23:00:00+00:00  1781.5999755859375  1781.5999755859375   \n",
       "2      2022-12-06 00:00:00+00:00  1782.5999755859375  1782.5999755859375   \n",
       "3      2022-12-06 01:00:00+00:00   1786.699951171875   1786.699951171875   \n",
       "4      2022-12-06 02:00:00+00:00  1784.0999755859375  1784.0999755859375   \n",
       "...                          ...                 ...                 ...   \n",
       "11520  2024-12-05 18:00:00+00:00    2652.60009765625    2652.60009765625   \n",
       "11521  2024-12-05 19:00:00+00:00   2652.800048828125   2652.800048828125   \n",
       "11522  2024-12-05 20:00:00+00:00              2654.5              2654.5   \n",
       "11523  2024-12-05 21:00:00+00:00              2655.0              2655.0   \n",
       "11524  2024-12-05 23:00:00+00:00   2656.199951171875   2656.199951171875   \n",
       "\n",
       "                     High                 Low                Open Volume  \n",
       "0                    GC=F                GC=F                GC=F   GC=F  \n",
       "1      1782.5999755859375  1780.0999755859375   1780.800048828125      0  \n",
       "2      1783.0999755859375  1768.5999755859375  1781.5999755859375   1469  \n",
       "3      1788.0999755859375              1782.0              1782.5   6505  \n",
       "4       1788.199951171875  1783.5999755859375   1786.199951171875   5091  \n",
       "...                   ...                 ...                 ...    ...  \n",
       "11520   2652.800048828125   2629.199951171875    2650.89990234375   8288  \n",
       "11521    2654.89990234375    2630.39990234375   2652.699951171875   4292  \n",
       "11522              2655.0    2651.10009765625    2652.89990234375   3172  \n",
       "11523    2655.60009765625    2654.10009765625    2654.39990234375   1076  \n",
       "11524    2656.39990234375              2654.0              2655.0    885  \n",
       "\n",
       "[11525 rows x 7 columns]"
      ]
     },
     "execution_count": 78,
     "metadata": {},
     "output_type": "execute_result"
    }
   ],
   "source": [
    "gold = pd.read_csv('Gold_Price_hourly.csv')\n",
    "gold"
   ]
  },
  {
   "cell_type": "code",
   "execution_count": null,
   "id": "eb1dbe7c-05ed-4355-8778-426deba5ff86",
   "metadata": {},
   "outputs": [],
   "source": []
  }
 ],
 "metadata": {
  "kernelspec": {
   "display_name": "Python 3 (ipykernel)",
   "language": "python",
   "name": "python3"
  },
  "language_info": {
   "codemirror_mode": {
    "name": "ipython",
    "version": 3
   },
   "file_extension": ".py",
   "mimetype": "text/x-python",
   "name": "python",
   "nbconvert_exporter": "python",
   "pygments_lexer": "ipython3",
   "version": "3.12.4"
  }
 },
 "nbformat": 4,
 "nbformat_minor": 5
}
